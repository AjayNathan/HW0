{
 "cells": [
  {
   "cell_type": "markdown",
   "metadata": {},
   "source": [
    "# CS 182: Artificial Intelligence\n",
    "#Assignment 0: Python Review\n",
    "\n",
    "* Fall 2015\n",
    "* Due: September 11, 5pm\n"
   ]
  },
  {
   "cell_type": "markdown",
   "metadata": {},
   "source": [
    "## Introduction\n",
    "Welcome (back) to Python! The purpose of this warm-up assignment is to refresh your programming skills and help you recall some of the important concepts, such as:\n",
    "\n",
    "* recursion vs. iteration,\n",
    "* classes and instances,\n",
    "* anonymous lambda functions,\n",
    "* function mapping,\n",
    "* destructive vs. nondestructive functions, and\n",
    "* data structures\n",
    "\n",
    "It is very important to complete this assignment on time because Python programming ability will be presumed in all subsequent assignments.\n"
   ]
  },
  {
   "cell_type": "markdown",
   "metadata": {},
   "source": [
    "## Getting started\n",
    "\n",
    "If you wish to start working on this assignment before the Python review session, go ahead and start planning out the code. Here are some resources you may find helpful:\n",
    "\n",
    "https://www.dropbox.com/s/9eamgwnohs82e8c/tutorial.html\n",
    "\n",
    "http://wiki.python.org/moin/BeginnersGuide\n",
    "\n",
    "To get started: \n",
    "\n",
    "     > git clone https://github.com/CS182/HW0.git\n",
    "     > python\n",
    "\n",
    "Once you have started a Python session within your `HW0` directory, complete the definitions of the classes and functions by editing `util.py`. Alternatively, you can use any other editor and only use the command line to run the files. To test your code, add a main function to `util.py`, and add to it a call the method you want to test. \n",
    "\n",
    "(Also this assignment file itself is valid Python! You can download it here to run its tests directly: \n",
    "\n",
    "     > python HW0.py\n",
    "\n",
    "See http://ipython.org/ for more details) "
   ]
  },
  {
   "cell_type": "code",
   "execution_count": null,
   "metadata": {
    "collapsed": true
   },
   "outputs": [],
   "source": [
    "import util"
   ]
  },
  {
   "cell_type": "markdown",
   "metadata": {},
   "source": [
    "## Problems\n",
    "\n",
    "Do all six problems. Unless otherwise noted, your functions should be non-destructive, meaning it should not change the object passed as arguments to functions. Always aim to make your programs elegant and include comments for all of your functions. Your solutions must adhere to the function specifications as they appear below. Your functions need not perform error checking, but must work for all reasonable input.\n"
   ]
  },
  {
   "cell_type": "markdown",
   "metadata": {},
   "source": [
    "### Problem 1\n",
    "\n",
    "Write a function called `matrix_multiply` which multiplies two 2-dimensional lists of real numbers. For instance,"
   ]
  },
  {
   "cell_type": "code",
   "execution_count": null,
   "metadata": {
    "collapsed": true
   },
   "outputs": [],
   "source": [
    "mm = util.matrix_multiply([[1, 2], [3, 4]], [[4, 3], [2, 1]]) \n",
    "# should evaluate to\n",
    "assert(mm == [[8, 5], [20, 13]])"
   ]
  },
  {
   "cell_type": "markdown",
   "metadata": {},
   "source": [
    "You may assume that the dimensions of the input arrays are compatible. Your function should return the resultant matrix. If you are not familiar with lists in Python, you may want to read about them here:\n",
    "\n",
    "http://www.linuxtopia.org/online_books/programming_books/introduction_to_python/python_tut_18.html\n",
    "\n",
    "\n",
    "http://docs.python.org/library/functions.html#list"
   ]
  },
  {
   "cell_type": "markdown",
   "metadata": {},
   "source": [
    "### Problem 2\n",
    "Complete the definitions of the methods `init`, `push` and `pop` in the Python classes `MyQueue` and `MyStack`, using a deque data structure in Python. The operation pop should return, not print, the appropriate object in the structure. If empty, it should return None instead of throwing an error. On the other hand, operation push does not have to return anything. An example behavior is as follows:\n"
   ]
  },
  {
   "cell_type": "code",
   "execution_count": null,
   "metadata": {
    "collapsed": true
   },
   "outputs": [],
   "source": [
    "q = util.MyQueue()\n",
    "q.push(1); q.push(2)\n",
    "# should evaluate to\n",
    "assert(q.pop() == 1)"
   ]
  },
  {
   "cell_type": "markdown",
   "metadata": {},
   "source": [
    "If you are unfamiliar with deques and class declarations in Python, read about them here:\n",
    "\n",
    "http://docs.python.org/library/collections.html#collections.deque\n",
    "http://docs.python.org/tutorial/classes.html"
   ]
  },
  {
   "cell_type": "markdown",
   "metadata": {},
   "source": [
    "### Problem 3\n",
    "For the two classes written in Problem 2, override __eq__, __ne__, and __str__ methods. You can read about these methods in detail here:\n",
    "\n",
    "http://docs.python.org/reference/datamodel.html#basic-customization\n",
    "\n",
    "Simply put, the above methods do the following:\n",
    "\n",
    "* __eq__(self, other) returns True if self and other are `equal`.\n",
    "\n",
    "* __ne__(self, other) returns True if self and other are `not equal`.\n",
    "\n",
    "* __str__(self) returns a string representation of self. You may decide on whatever representation you want, but ideally the method should at least print the elements.\n",
    "\n",
    "We will call two stacks or two queues _equal_ if and only if they contain the same elements and in the same order. You may assume that only elements they contain are integers."
   ]
  },
  {
   "cell_type": "markdown",
   "metadata": {},
   "source": [
    "### Problem 4\n",
    "Write three functions called `add_position_iter`, `add_position_recur`, and `add_position_map`, using iteration, recursion, and the built-in map function, respectively. All the versions should take a list of numbers and return a new list containing, in order, each of the original numbers incremented by the position of that number in the list. Positions in lists are numbered starting with 0, so:"
   ]
  },
  {
   "cell_type": "code",
   "execution_count": null,
   "metadata": {
    "collapsed": true
   },
   "outputs": [],
   "source": [
    "ret = util.add_position_iter([7, 5, 1, 4])\n",
    "assert(ret == [7, 6, 3, 7])"
   ]
  },
  {
   "cell_type": "markdown",
   "metadata": {},
   "source": [
    "Remember that this function should not be destructive i.e.,"
   ]
  },
  {
   "cell_type": "code",
   "execution_count": null,
   "metadata": {
    "collapsed": true
   },
   "outputs": [],
   "source": [
    "a = [7, 5, 1, 4]\n",
    "ret = util.add_position_iter(a)\n",
    "assert(a != [7, 6, 3, 7])"
   ]
  },
  {
   "cell_type": "markdown",
   "metadata": {},
   "source": [
    "Furthermore, your function should also take an optional argument number_from which, although its default value should be 0, can be used to specify a different value from which to start numbering positions, such that instead of incrementing the first element by 0, the second by 1, etc., the function will increment the first element by the value of number_from, the second element by number_from+1,etc. For example:"
   ]
  },
  {
   "cell_type": "code",
   "execution_count": null,
   "metadata": {
    "collapsed": true
   },
   "outputs": [],
   "source": [
    "ret = util.add_position_iter([0, 0, 3, 1], number_from=3)\n",
    "assert(ret == [3, 4, 8, 7])"
   ]
  },
  {
   "cell_type": "markdown",
   "metadata": {},
   "source": [
    "### Problem 5\n",
    "\n",
    "Write a function called `remove_course` which takes in `roster`, `student`, `course` as arguments and returns a modified roster. This function, unlike ones you've just written, should be destructive, meaning that roster should be modified directly.\n",
    "\n",
    "* `roster` will be of type dictionary in Python. It will map a string (i.e., a student name) to a set. Each set will contain strings, representing courses the corresponding student is currently taking.\n",
    "* `student` will be of type string; it will represent the name of the student.\n",
    "* `course` will also be of type string.\n",
    "\n",
    "You can read more about set and dict below:\n",
    "\n",
    "http://docs.python.org/tutorial/datastructures.html#sets\n",
    "http://docs.python.org/tutorial/datastructures.html#dictionaries\n",
    "\n",
    "An example behavior is as follows:\n"
   ]
  },
  {
   "cell_type": "code",
   "execution_count": null,
   "metadata": {
    "collapsed": true
   },
   "outputs": [],
   "source": [
    "roster = {'kyu': set(['cs182']), 'david': set(['cs182'])}\n",
    "util.remove_course(roster, 'kyu', 'cs182')\n",
    "assert(roster == {'kyu': set([]), 'david': set(['cs182'])})"
   ]
  },
  {
   "cell_type": "markdown",
   "metadata": {},
   "source": [
    "### Problem 6\n",
    "Now write a function called `copy_remove_course`. The specifications are the same as above except the function should now be non-destructive. An example behavior is as follows:"
   ]
  },
  {
   "cell_type": "code",
   "execution_count": null,
   "metadata": {
    "collapsed": true
   },
   "outputs": [],
   "source": [
    "roster = {'kyu': set(['cs182']), 'david': set(['cs182'])}\n",
    "new_roster = util.copy_remove_course(roster, 'kyu', 'cs182')\n",
    "assert(roster == {'kyu': set(['cs182']), 'david': set(['cs182'])})\n",
    "assert(new_roster == {'kyu': set([]), 'david': set(['cs182'])})\n"
   ]
  },
  {
   "cell_type": "markdown",
   "metadata": {},
   "source": [
    "Hint: _copy_ the original roster and apply remove_course from Problem 5.\n",
    "\n",
    "You can read more about the copy module below:\n",
    "http://docs.python.org/2/library/copy.html"
   ]
  },
  {
   "cell_type": "markdown",
   "metadata": {},
   "source": [
    "## Submission\n",
    "\n",
    "The assignment should be completed individually. You are encouraged to consult online sources and post questions on Piazza. You are allowed, and encouraged to, discuss problems with your peers; however you may not share code. Submit your modified `util.py` file via git to `bgreen@g.harvard.edu`. If you still have problems after consulting Python resources, you are encouraged to consult your peers and use the Piazza discussion forum.\n",
    "\n",
    "Good luck!"
   ]
  }
 ],
 "metadata": {
  "kernelspec": {
   "display_name": "Python 2",
   "language": "python",
   "name": "python2"
  },
  "language_info": {
   "codemirror_mode": {
    "name": "ipython",
    "version": 2
   },
   "file_extension": ".py",
   "mimetype": "text/x-python",
   "name": "python",
   "nbconvert_exporter": "python",
   "pygments_lexer": "ipython2",
   "version": "2.7.9"
  }
 },
 "nbformat": 4,
 "nbformat_minor": 0
}
